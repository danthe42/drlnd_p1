{
 "cells": [
  {
   "cell_type": "markdown",
   "metadata": {},
   "source": [
    "# Navigation\n",
    "\n",
    "---\n",
    "\n",
    "I use this jupyter notebook to train my agents for the project, and to visualize the results. To understand the background of all the introduced algorithms, you can use the Report.md file in this directory.\n",
    "\n",
    "### 1. Start the Environment\n",
    "\n",
    "Run the next code cell to install a few packages.  This line will take a few minutes to run!"
   ]
  },
  {
   "cell_type": "code",
   "execution_count": 1,
   "metadata": {},
   "outputs": [
    {
     "name": "stdout",
     "output_type": "stream",
     "text": [
      "\u001b[31mtensorflow 1.7.1 has requirement numpy>=1.13.3, but you'll have numpy 1.12.1 which is incompatible.\u001b[0m\r\n",
      "\u001b[31mipython 6.5.0 has requirement prompt-toolkit<2.0.0,>=1.0.15, but you'll have prompt-toolkit 3.0.17 which is incompatible.\u001b[0m\r\n"
     ]
    }
   ],
   "source": [
    "!pip -q install ./python"
   ]
  },
  {
   "cell_type": "markdown",
   "metadata": {},
   "source": [
    "The environment is already saved in the Workspace and can be accessed at the file path provided below.  Please run the next code cell without making any changes."
   ]
  },
  {
   "cell_type": "code",
   "execution_count": 2,
   "metadata": {},
   "outputs": [],
   "source": [
    "import matplotlib.pyplot as plt\n",
    "%matplotlib inline\n"
   ]
  },
  {
   "cell_type": "code",
   "execution_count": 3,
   "metadata": {},
   "outputs": [
    {
     "name": "stderr",
     "output_type": "stream",
     "text": [
      "INFO:unityagents:\n",
      "'Academy' started successfully!\n",
      "Unity Academy name: Academy\n",
      "        Number of Brains: 1\n",
      "        Number of External Brains : 1\n",
      "        Lesson number : 0\n",
      "        Reset Parameters :\n",
      "\t\t\n",
      "Unity brain name: BananaBrain\n",
      "        Number of Visual Observations (per agent): 0\n",
      "        Vector Observation space type: continuous\n",
      "        Vector Observation space size (per agent): 37\n",
      "        Number of stacked Vector Observation: 1\n",
      "        Vector Action space type: discrete\n",
      "        Vector Action space size (per agent): 4\n",
      "        Vector Action descriptions: , , , \n"
     ]
    }
   ],
   "source": [
    "from unityagents import UnityEnvironment\n",
    "import numpy as np\n",
    "\n",
    "# please do not modify the line below\n",
    "env = UnityEnvironment(file_name=\"/data/Banana_Linux_NoVis/Banana.x86_64\")"
   ]
  },
  {
   "cell_type": "markdown",
   "metadata": {},
   "source": [
    "Environments contain **_brains_** which are responsible for deciding the actions of their associated agents. Here we check for the first brain available, and set it as the default brain we will be controlling from Python."
   ]
  },
  {
   "cell_type": "code",
   "execution_count": 4,
   "metadata": {},
   "outputs": [],
   "source": [
    "# get the default brain\n",
    "brain_name = env.brain_names[0]\n",
    "brain = env.brains[brain_name]"
   ]
  },
  {
   "cell_type": "markdown",
   "metadata": {},
   "source": [
    "### 2. Examine the State and Action Spaces\n",
    "\n",
    "Run the code cell below to print some information about the environment."
   ]
  },
  {
   "cell_type": "code",
   "execution_count": 5,
   "metadata": {},
   "outputs": [
    {
     "name": "stdout",
     "output_type": "stream",
     "text": [
      "Number of agents: 1\n",
      "Number of actions: 4\n",
      "States look like: [ 1.          0.          0.          0.          0.84408134  0.          0.\n",
      "  1.          0.          0.0748472   0.          1.          0.          0.\n",
      "  0.25755     1.          0.          0.          0.          0.74177343\n",
      "  0.          1.          0.          0.          0.25854847  0.          0.\n",
      "  1.          0.          0.09355672  0.          1.          0.          0.\n",
      "  0.31969345  0.          0.        ]\n",
      "States have length: 37\n"
     ]
    }
   ],
   "source": [
    "# reset the environment\n",
    "env_info = env.reset(train_mode=True)[brain_name]\n",
    "\n",
    "# number of agents in the environment\n",
    "print('Number of agents:', len(env_info.agents))\n",
    "\n",
    "# number of actions\n",
    "action_size = brain.vector_action_space_size\n",
    "print('Number of actions:', action_size)\n",
    "\n",
    "# examine the state space \n",
    "state = env_info.vector_observations[0]\n",
    "print('States look like:', state)\n",
    "state_size = len(state)\n",
    "print('States have length:', state_size)"
   ]
  },
  {
   "cell_type": "markdown",
   "metadata": {},
   "source": [
    "### 3. Take Random Actions in the Environment\n",
    "\n",
    "In the next code cell, you will learn how to use the Python API to control the agent and receive feedback from the environment.\n",
    "\n",
    "Note that **in this coding environment, you will not be able to watch the agent while it is training**, and you should set `train_mode=True` to restart the environment."
   ]
  },
  {
   "cell_type": "code",
   "execution_count": 6,
   "metadata": {},
   "outputs": [
    {
     "name": "stdout",
     "output_type": "stream",
     "text": [
      "Score: 0.0\n"
     ]
    }
   ],
   "source": [
    "env_info = env.reset(train_mode=True)[brain_name] # reset the environment\n",
    "state = env_info.vector_observations[0]            # get the current state\n",
    "score = 0                                          # initialize the score\n",
    "while True:\n",
    "    action = np.random.randint(action_size)        # select an action\n",
    "    env_info = env.step(action)[brain_name]        # send the action to the environment\n",
    "    next_state = env_info.vector_observations[0]   # get the next state\n",
    "    reward = env_info.rewards[0]                   # get the reward\n",
    "    done = env_info.local_done[0]                  # see if episode has finished\n",
    "    score += reward                                # update the score\n",
    "    state = next_state                             # roll over the state to next time step\n",
    "    if done:                                       # exit loop if episode finished\n",
    "        break\n",
    "    \n",
    "print(\"Score: {}\".format(score))"
   ]
  },
  {
   "cell_type": "code",
   "execution_count": 6,
   "metadata": {},
   "outputs": [],
   "source": [
    "%load_ext autoreload\n",
    "%autoreload 2\n",
    "\n",
    "from ReplayBuffer import ReplayBuffer, PrioReplayBuffer \n",
    "from p1_agent import Agent, PRIOAgent \n",
    "import torch \n",
    "\n",
    "seed = 0\n"
   ]
  },
  {
   "cell_type": "markdown",
   "metadata": {},
   "source": [
    "The dqn() method will be our training algorithm, using the preconfigured hyperparameters, and the agent.\n",
    "It will stop learning after reaching the 13.0 total reward, which is our goal. \n",
    "The maximum length of 1 episode is allowed to be 1000 time units, but i've noticed that the Unity environment always terminates the episode after 300 time steps.  "
   ]
  },
  {
   "cell_type": "code",
   "execution_count": 11,
   "metadata": {
    "scrolled": true
   },
   "outputs": [],
   "source": [
    "from collections import deque \n",
    "\n",
    "def dqn(n_episodes, max_t, eps_start, eps_end, eps_decay):\n",
    "\n",
    "    scores = []                        # list containing scores from each episode\n",
    "    scores_window = deque(maxlen=100)  # last 100 scores\n",
    "    eps = eps_start                    # initialize epsilon\n",
    "    for i_episode in range(1, n_episodes+1):\n",
    "        env_info = env.reset(train_mode=True)[brain_name]\n",
    "        state = env_info.vector_observations[0]\n",
    "        score = 0   \n",
    "        for t in range(max_t):\n",
    "            action = agent.act(state, eps)\n",
    "            env_info = env.step(action)[brain_name]        # send the action to the environment\n",
    "            next_state = env_info.vector_observations[0]   # get the next state\n",
    "            reward = env_info.rewards[0]                   # get the reward\n",
    "            done = env_info.local_done[0] \n",
    "            agent.step(state, action, reward, next_state, done)\n",
    "            state = next_state\n",
    "            score += reward\n",
    "            if done:\n",
    "                break \n",
    "        scores_window.append(score)       # save most recent score\n",
    "        scores.append(score)              # save most recent score\n",
    "        eps = max(eps_end, eps_decay*eps) # decrease epsilon\n",
    "        print('\\rEpisode {}\\tAverage Score: {:.2f}'.format(i_episode, np.mean(scores_window)), end=\"\")\n",
    "        if i_episode % 100 == 0:\n",
    "            print('\\rEpisode {}\\tAverage Score: {:.2f}'.format(i_episode, np.mean(scores_window)))\n",
    "        if np.mean(scores_window)>=13.0:\n",
    "            print('\\nEnvironment solved in {:d} episodes!\\tAverage Score: {:.2f}'.format(i_episode-100, np.mean(scores_window)))\n",
    "            torch.save(agent.qnetwork_local.state_dict(), netname)\n",
    "            break\n",
    "    return scores\n"
   ]
  },
  {
   "cell_type": "markdown",
   "metadata": {},
   "source": [
    "First, let's train an agent using Double DQN: "
   ]
  },
  {
   "cell_type": "code",
   "execution_count": 12,
   "metadata": {},
   "outputs": [
    {
     "name": "stdout",
     "output_type": "stream",
     "text": [
      "Creating model with  256  and  128  hidden layer sizes.\n",
      "Creating model with  256  and  128  hidden layer sizes.\n",
      "Episode 100\tAverage Score: 0.59\n",
      "Episode 200\tAverage Score: 3.77\n",
      "Episode 300\tAverage Score: 6.80\n",
      "Episode 400\tAverage Score: 8.33\n",
      "Episode 500\tAverage Score: 12.92\n",
      "Episode 502\tAverage Score: 13.04\n",
      "Environment solved in 402 episodes!\tAverage Score: 13.04\n"
     ]
    }
   ],
   "source": [
    "BUFFER_SIZE = int(1e5)  # replay buffer size\n",
    "BATCH_SIZE = 64         # minibatch size\n",
    "EPS_START = 0.1\n",
    "EPS_END = 0.\n",
    "EPS_DECAY = 0.98\n",
    "GAMMA = 0.99            # discount factor\n",
    "LR = 5e-4               # learning rate \n",
    "\n",
    "memory = ReplayBuffer(action_size, BUFFER_SIZE, BATCH_SIZE, seed)\n",
    "agent = Agent(state_size=state_size, action_size=action_size, seed=seed, memory=memory, batch_size=BATCH_SIZE, LR=LR, GAMMA=GAMMA)\n",
    "netname = \"net_ddqn.pth\"\n",
    "\n",
    "scores1 = dqn(5000, 1000, eps_start=EPS_START, eps_end=EPS_END, eps_decay=EPS_DECAY)    \n"
   ]
  },
  {
   "cell_type": "code",
   "execution_count": 13,
   "metadata": {},
   "outputs": [
    {
     "data": {
      "image/png": "[encoded data removed]",
      "text/plain": [
       "<matplotlib.figure.Figure at 0x7f13fc101240>"
      ]
     },
     "metadata": {
      "needs_background": "light"
     },
     "output_type": "display_data"
    }
   ],
   "source": [
    "# plot the scores\n",
    "fig = plt.figure()\n",
    "ax = fig.add_subplot(111)\n",
    "plt.plot(np.arange(len(scores1)), scores1)\n",
    "plt.ylabel('Score')\n",
    "plt.xlabel('Episode #')\n",
    "plt.show()"
   ]
  },
  {
   "cell_type": "markdown",
   "metadata": {},
   "source": [
    "Next, train a new network from the scratch with an other agent using Double DQN + Prioritized Experience Replay (with proportional prioritization):"
   ]
  },
  {
   "cell_type": "code",
   "execution_count": 16,
   "metadata": {},
   "outputs": [
    {
     "name": "stdout",
     "output_type": "stream",
     "text": [
      "Creating model with  256  and  128  hidden layer sizes.\n",
      "Creating model with  256  and  128  hidden layer sizes.\n",
      "Episode 100\tAverage Score: 3.30\n",
      "Episode 200\tAverage Score: 7.28\n",
      "Episode 300\tAverage Score: 10.66\n",
      "Episode 400\tAverage Score: 12.24\n",
      "Episode 433\tAverage Score: 13.00\n",
      "Environment solved in 333 episodes!\tAverage Score: 13.00\n"
     ]
    }
   ],
   "source": [
    "BUFFER_SIZE = int(2e5)  # replay buffer size\n",
    "BATCH_SIZE = 32         # minibatch size\n",
    "EPS_START = 0.1\n",
    "EPS_END = 0.\n",
    "EPS_DECAY = 0.98\n",
    "ALPHA = 0.6             # [0~1] convert the importance of TD error to priority\n",
    "BETA = 0.6              # importance-sampling, from initial value increasing to 1\n",
    "BETA_INC_PER_SAMPLING = 0.000003\n",
    "GAMMA = 0.98            # discount factor       # pipa\n",
    "LR = 5e-4               # learning rate \n",
    "\n",
    "memory = PrioReplayBuffer(action_size, BUFFER_SIZE, BATCH_SIZE, seed, ALPHA, BETA, BETA_INC_PER_SAMPLING)\n",
    "agent = PRIOAgent(state_size=state_size, action_size=action_size, seed=seed, memory=memory, batch_size=BATCH_SIZE, LR=LR, GAMMA=GAMMA)\n",
    "netname = \"net_prioddqn.pth\"\n",
    "\n",
    "scores2 = dqn(5000, 1000, eps_start=EPS_START, eps_end=EPS_END, eps_decay=EPS_DECAY)    \n"
   ]
  },
  {
   "cell_type": "markdown",
   "metadata": {},
   "source": [
    "Now if you compare the two algorithm, it can be seen that the second one is more efficient in learning to collect bananas: "
   ]
  },
  {
   "cell_type": "code",
   "execution_count": 35,
   "metadata": {},
   "outputs": [
    {
     "data": {
      "image/png": "[encoded data removed]",
      "text/plain": [
       "<matplotlib.figure.Figure at 0x7f13c3ec1518>"
      ]
     },
     "metadata": {
      "needs_background": "light"
     },
     "output_type": "display_data"
    }
   ],
   "source": [
    "# plot the scores\n",
    "#fig = plt.figure()\n",
    "#ax1 = fig.add_subplot(1, 2, 1)\n",
    "fig, (ax1, ax2) = plt.subplots(2, 1, sharex=True)\n",
    "\n",
    "ax1.plot(np.arange(len(scores1)), scores1)\n",
    "#ax1.ylabel('Score')\n",
    "#ax1.xlabel('Episode #')\n",
    "ax1.set_title(\"Double DQN\")\n",
    "ax2.plot(np.arange(len(scores2)), scores2)\n",
    "#ax2.ylabel('Score')\n",
    "#ax2.xlabel('Episode #')\n",
    "ax2.set_title(\"Double DQN + Prio. Exp.Replay\")\n",
    "plt.show()"
   ]
  },
  {
   "cell_type": "code",
   "execution_count": null,
   "metadata": {},
   "outputs": [],
   "source": [
    "After these 2 trainings, the final trained neural networks are stored in this directory with the following filenames: \n",
    "    - net_ddqn.pth\n",
    "    - net_prioddqn.pth \n",
    "    "
   ]
  },
  {
   "cell_type": "code",
   "execution_count": null,
   "metadata": {},
   "outputs": [],
   "source": [
    "Try to load and play some banana collections using the first network:"
   ]
  },
  {
   "cell_type": "code",
   "execution_count": 29,
   "metadata": {},
   "outputs": [],
   "source": [
    "# we are in inference mode so the values of the following hyperparameters are ignored\n",
    "BATCH_SIZE = 0\n",
    "LR = 0\n",
    "GAMMA = 0\n",
    "num_games = 10\n",
    "max_t = 1000\n",
    "\n",
    "def play(netname):\n",
    "    agent = Agent(state_size=state_size, action_size=action_size, seed=seed, memory=None, batch_size=BATCH_SIZE, LR=LR, GAMMA=GAMMA)\n",
    "    agent.qnetwork_local.load_state_dict(torch.load(netname))\n",
    "    scores = []\n",
    "\n",
    "    for i in range(num_games):\n",
    "        env_info = env.reset(train_mode=False)[brain_name] # reset the environment\n",
    "        state = env_info.vector_observations[0]            # get the current state\n",
    "        score = 0                                          # initialize the score\n",
    "        for t in range(max_t):\n",
    "            action = agent.act(state, 0.0)                 # select best action, epsilon will be 0 here\n",
    "            env_info = env.step(action)[brain_name]        # send the action to the environment\n",
    "            next_state = env_info.vector_observations[0]   # get the next state\n",
    "            reward = env_info.rewards[0]                   # get the reward\n",
    "            done = env_info.local_done[0]                  # see if episode has finished\n",
    "            score += reward                                # update the score\n",
    "            state = next_state                             # roll over the state to next time step\n",
    "            if done:                                       # exit loop if episode finished\n",
    "                break\n",
    "        scores.append(score)\n",
    "    return ( num_games, scores )\n"
   ]
  },
  {
   "cell_type": "code",
   "execution_count": 30,
   "metadata": {},
   "outputs": [
    {
     "name": "stdout",
     "output_type": "stream",
     "text": [
      "Creating model with  256  and  128  hidden layer sizes.\n",
      "Creating model with  256  and  128  hidden layer sizes.\n",
      "Normal DDQN, Average score of 10 games = 14.3\n",
      "Creating model with  256  and  128  hidden layer sizes.\n",
      "Creating model with  256  and  128  hidden layer sizes.\n",
      "DDQN+Prioritized Experience Learning memory, Average score of 10 games = 12.1\n"
     ]
    }
   ],
   "source": [
    "(num_games, scores1) = play( \"net_ddqn.pth\" )\n",
    "print(\"Normal DDQN, Average score of {} games = {}\".format( num_games, np.mean(scores1) ) )\n",
    "(num_games, scores2) = play( \"net_prioddqn.pth\" )\n",
    "print(\"DDQN+Prioritized Experience Learning memory, Average score of {} games = {}\".format( num_games, np.mean(scores2) ) )\n"
   ]
  },
  {
   "cell_type": "code",
   "execution_count": 40,
   "metadata": {},
   "outputs": [
    {
     "name": "stdout",
     "output_type": "stream",
     "text": [
      "DDQN: Avarage score=14.3 Variance=39.81\n",
      "DDQN+PrioExpReplay: Avarage score=12.1 Variance=6.890000000000001\n"
     ]
    }
   ],
   "source": [
    "print(\"DDQN: Avarage score={} Variance={}\".format( np.mean(scores1), np.var(scores1) ) )\n",
    "print(\"DDQN+PrioExpReplay: Avarage score={} Variance={}\".format( np.mean(scores2), np.var(scores2) ) )\n"
   ]
  },
  {
   "cell_type": "markdown",
   "metadata": {},
   "source": [
    "The average results can be under or over the 13.0 goal with both agents.  \n",
    "But there is one conclusion when analysing this scores: The first agent's scores' variance is always much higher that the second agent's.\n",
    "So, the Prioritized Experience learning agent seems to be better: it learned more efficiently, and seems to be producing more robust results."
   ]
  },
  {
   "cell_type": "markdown",
   "metadata": {},
   "source": [
    "When finished, we close the environment."
   ]
  },
  {
   "cell_type": "code",
   "execution_count": 36,
   "metadata": {},
   "outputs": [],
   "source": [
    "env.close()"
   ]
  }
 ],
 "metadata": {
  "kernelspec": {
   "display_name": "Python 3",
   "language": "python",
   "name": "python3"
  },
  "language_info": {
   "codemirror_mode": {
    "name": "ipython",
    "version": 3
   },
   "file_extension": ".py",
   "mimetype": "text/x-python",
   "name": "python",
   "nbconvert_exporter": "python",
   "pygments_lexer": "ipython3",
   "version": "3.6.3"
  }
 },
 "nbformat": 4,
 "nbformat_minor": 2
}
